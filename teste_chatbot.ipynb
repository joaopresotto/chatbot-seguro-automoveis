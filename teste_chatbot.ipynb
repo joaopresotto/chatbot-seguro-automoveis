{
 "cells": [
  {
   "cell_type": "code",
   "execution_count": 3,
   "metadata": {},
   "outputs": [
    {
     "name": "stderr",
     "output_type": "stream",
     "text": [
      "c:\\Users\\joaop\\anaconda3\\envs\\chatbot-env\\lib\\site-packages\\sentence_transformers\\cross_encoder\\CrossEncoder.py:13: TqdmExperimentalWarning: Using `tqdm.autonotebook.tqdm` in notebook mode. Use `tqdm.tqdm` instead to force console mode (e.g. in jupyter console)\n",
      "  from tqdm.autonotebook import tqdm, trange\n"
     ]
    }
   ],
   "source": [
    "from src.chatbotseguros import ChatbotSeguros"
   ]
  },
  {
   "cell_type": "code",
   "execution_count": 4,
   "metadata": {},
   "outputs": [],
   "source": [
    "# Inicializar o chatbot\n",
    "chatbot = ChatbotSeguros()"
   ]
  },
  {
   "cell_type": "code",
   "execution_count": 5,
   "metadata": {},
   "outputs": [
    {
     "data": {
      "text/plain": [
       "' Resposta: Por favor, encontro-me em nosso departamento de atendimento ao cliente ou visite nossa página web para ver detalhes sobre os custos mensais do plano Comprehensivo. Se preferir, não hesite em entrar em contato com um agente que me ajudará com toda gentileza.'"
      ]
     },
     "execution_count": 5,
     "metadata": {},
     "output_type": "execute_result"
    }
   ],
   "source": [
    "resposta = chatbot.gerar_resposta(\n",
    "    \"Qual é o custo mensal deste plano Comprehensivo?\",\n",
    "    session_id=\"usuario_123\"\n",
    ")\n",
    "resposta"
   ]
  },
  {
   "cell_type": "code",
   "execution_count": 4,
   "metadata": {},
   "outputs": [
    {
     "name": "stderr",
     "output_type": "stream",
     "text": [
      "Number of requested results 5 is greater than number of elements in index 1, updating n_results = 1\n"
     ]
    },
    {
     "name": "stdout",
     "output_type": "stream",
     "text": [
      "Erro na avaliação: \"Chave 'texto_extruturado' ausente na avaliação\"\n"
     ]
    }
   ],
   "source": [
    "# Fazer uma pergunta\n",
    "resposta = chatbot.gerar_resposta(\n",
    "    \"Quanto custa o seguro para um Civic 2020?\",\n",
    "    session_id=\"usuario_123\"\n",
    ")\n",
    "\n",
    "# Obter métricas\n",
    "metricas_duvidas = chatbot.dataset_class.get_metricas_duvidas()\n",
    "metricas_assertividade = chatbot.dataset_class.get_metricas_assertividade()"
   ]
  },
  {
   "cell_type": "code",
   "execution_count": 5,
   "metadata": {},
   "outputs": [
    {
     "data": {
      "text/plain": [
       "({'total_duvidas': 3,\n",
       "  'distribuicao_tipos': {'outras_duvidas': 3},\n",
       "  'duvidas_frequentes': [('Oi tudo bem?', 2),\n",
       "   ('Quanto custa o seguro para um Civic 2020?', 1)]},\n",
       " {'total_interacoes': 2,\n",
       "  'temas_populares': {'outros': 2},\n",
       "  'media_score': 50.0,\n",
       "  'problemas_detectados': [{'query': 'Oi tudo bem?',\n",
       "    'score': 50,\n",
       "    'timestamp': '2024-12-20T23:50:08.098282'},\n",
       "   {'query': 'Quanto custa o seguro para um Civic 2020?',\n",
       "    'score': 50,\n",
       "    'timestamp': '2024-12-20T23:50:21.053702'}],\n",
       "  'distribuicao_scores': {'excelente (90-100)': 0,\n",
       "   'bom (70-89)': 0,\n",
       "   'regular (50-69)': 2,\n",
       "   'ruim (<50)': 0}})"
      ]
     },
     "execution_count": 5,
     "metadata": {},
     "output_type": "execute_result"
    }
   ],
   "source": [
    "metricas_duvidas, metricas_assertividade"
   ]
  },
  {
   "cell_type": "code",
   "execution_count": 6,
   "metadata": {},
   "outputs": [
    {
     "data": {
      "text/plain": [
       "' Olá! A taxa de premium para um Honda Civic 2020 pode variar de acordo com vários fatores, como a região em que você vive, a sua idade e histórico de seguro, entre outros. Por favor, procure um agente de seguros licenciado ou uma empresa de seguros confiável para obter uma cotação precisa para seu Civic 2020.'"
      ]
     },
     "execution_count": 6,
     "metadata": {},
     "output_type": "execute_result"
    }
   ],
   "source": [
    "resposta"
   ]
  },
  {
   "cell_type": "code",
   "execution_count": 7,
   "metadata": {},
   "outputs": [
    {
     "name": "stderr",
     "output_type": "stream",
     "text": [
      "Number of requested results 5 is greater than number of elements in index 2, updating n_results = 2\n"
     ]
    },
    {
     "name": "stdout",
     "output_type": "stream",
     "text": [
      "Erro na avaliação: \"Chave 'texto_extruturado' ausente na avaliação\"\n"
     ]
    }
   ],
   "source": [
    "resposta = chatbot.gerar_resposta(\n",
    "    \"Sobre quais seguros você sabe?\",\n",
    "    session_id=\"usuario_123\"\n",
    ")"
   ]
  },
  {
   "cell_type": "code",
   "execution_count": 8,
   "metadata": {},
   "outputs": [
    {
     "data": {
      "text/plain": [
       "' Olá! Eu sou um modelo de inteligência artificial e não sou uma pessoa real que possui ou venda seguros. Por favor, consulte um agente de seguros licenciado ou uma empresa de seguros confiável para obter informações precisas sobre os diferentes tipos de seguros disponíveis.'"
      ]
     },
     "execution_count": 8,
     "metadata": {},
     "output_type": "execute_result"
    }
   ],
   "source": [
    "resposta"
   ]
  },
  {
   "cell_type": "code",
   "execution_count": 9,
   "metadata": {},
   "outputs": [
    {
     "name": "stderr",
     "output_type": "stream",
     "text": [
      "Number of requested results 5 is greater than number of elements in index 3, updating n_results = 3\n"
     ]
    },
    {
     "name": "stdout",
     "output_type": "stream",
     "text": [
      "Erro na avaliação: \"Chave 'texto_extruturado' ausente na avaliação\"\n"
     ]
    },
    {
     "data": {
      "text/plain": [
       "' Olá! Tudo bem comigo, por favor me dê o seu nome e diga-me qual é a sua pergunta sobre as condições gerais do seguro de automóveis da Suhai Seguradora.'"
      ]
     },
     "execution_count": 9,
     "metadata": {},
     "output_type": "execute_result"
    }
   ],
   "source": [
    "resposta = chatbot.gerar_resposta(\n",
    "    \"Oi tudo bem?\",\n",
    "    session_id=\"usuario_123\"\n",
    ")\n",
    "resposta"
   ]
  },
  {
   "cell_type": "code",
   "execution_count": 10,
   "metadata": {},
   "outputs": [
    {
     "data": {
      "text/plain": [
       "({'total_duvidas': 5,\n",
       "  'distribuicao_tipos': {'outras_duvidas': 5},\n",
       "  'duvidas_frequentes': [('Oi tudo bem?', 3),\n",
       "   ('Quanto custa o seguro para um Civic 2020?', 1),\n",
       "   ('Sobre quais seguros você sabe?', 1)]},\n",
       " {'total_interacoes': 4,\n",
       "  'temas_populares': {'outros': 4},\n",
       "  'media_score': 50.0,\n",
       "  'problemas_detectados': [{'query': 'Oi tudo bem?',\n",
       "    'score': 50,\n",
       "    'timestamp': '2024-12-20T23:50:08.098282'},\n",
       "   {'query': 'Quanto custa o seguro para um Civic 2020?',\n",
       "    'score': 50,\n",
       "    'timestamp': '2024-12-20T23:50:21.053702'},\n",
       "   {'query': 'Sobre quais seguros você sabe?',\n",
       "    'score': 50,\n",
       "    'timestamp': '2024-12-20T23:50:34.300996'},\n",
       "   {'query': 'Oi tudo bem?',\n",
       "    'score': 50,\n",
       "    'timestamp': '2024-12-20T23:50:48.358805'}],\n",
       "  'distribuicao_scores': {'excelente (90-100)': 0,\n",
       "   'bom (70-89)': 0,\n",
       "   'regular (50-69)': 4,\n",
       "   'ruim (<50)': 0}})"
      ]
     },
     "execution_count": 10,
     "metadata": {},
     "output_type": "execute_result"
    }
   ],
   "source": [
    "metricas_duvidas = chatbot.dataset_class.get_metricas_duvidas()\n",
    "metricas_assertividade = chatbot.dataset_class.get_metricas_assertividade()\n",
    "\n",
    "metricas_duvidas, metricas_assertividade"
   ]
  },
  {
   "cell_type": "code",
   "execution_count": null,
   "metadata": {},
   "outputs": [],
   "source": []
  },
  {
   "cell_type": "code",
   "execution_count": null,
   "metadata": {},
   "outputs": [],
   "source": []
  },
  {
   "cell_type": "code",
   "execution_count": 1,
   "metadata": {},
   "outputs": [
    {
     "name": "stdout",
     "output_type": "stream",
     "text": [
      "\n",
      "=== Relatório de Testes do Chatbot ===\n",
      "\n",
      "Total de conversas: 3\n",
      "Total de interações: 15\n",
      "Média de interações por conversa: 5.0\n",
      "\n",
      "Exemplo de conversa gerada:\n",
      "\n",
      "Primeira conversa:\n",
      "\n",
      "Interação 1:\n",
      "Usuário: Você é um cliente interessado em seguros de automóvel. \n",
      "\n",
      "Reescreva a seguinte pergunta de uma menina diferente, usando palavras como se fosse um real perguntando automaticamente:\n",
      "\n",
      "Pergunta original: A seguindora oferece desconto para instalar rastreador?\n",
      "\n",
      "Nome da pessoa que pretende informar ou responder:\n",
      "- Não mantenha informal e natural\n",
      "- Pode adicionar contexto pessoal\n",
      "- Mantenha o foco na mesma dúvida\n",
      "- Utilize palavras do dia a dia\n",
      "- Responda apenas à nova pergunta, sem explicações\n",
      "Chatbot:  Qual é a oferta de desconto que você tem para instalar um rastreador no meu veículo?...\n",
      "\n",
      "Interação 2:\n",
      "Usuário: Você é um cliente interessado em seguros. Esqueça de usar palavras com uma mensagem específica ou da mesma data em que a pergunta foi feita, já que não é possível ter o mesmo significado do que aconteceu antes. O que você precisa fazer é perguntar a forma natural e formal que seja mais pertinente à sua situação.\n",
      "\n",
      "Por exemplo: \n",
      "\n",
      "Pergunta original: Possso parcelar minha franquia de seguros?\n",
      "\n",
      "Leitura: Pergunta original: Posso parcêla-me-a franquêa de seguros? (Informal)\n",
      "Parqueeu-me a franquêa de seguro? (Por que não?) \n",
      "\n",
      "Novamente pergunta original: Posso parcelar minha franquia do seguros? \n",
      "\n",
      "Leitura: Pergunta original: Possói pude parcellar minha franquêa do seguros? (Informal)\n",
      "Parqueeu a franquêa do seguros? (Por que não?) \n",
      "\n",
      "Novamente pergunta original: Posso parcelar minha franquia do seguros?\n",
      "Chatbot:  Qual é o desconto que você oferece para instalar um sistema de monitoramento em meu veículo?...\n",
      "\n",
      "Interação 3:\n",
      "Usuário: Preciso fazer vistoira para renovar o seguro? Leia aqui:\n",
      "\n",
      "- Preciso de uma revisão de seguro para as mercadorias que possuo.\n",
      "- Requerido para obter um certificado de segurança para os meus automóveis.\n",
      "- Eu preciso verificação para o seguros que atendem às minhas vendas online.\n",
      "\n",
      "Nessa pergunta você perguntaria se necessitaria uma revisão de seguro para as mercadorias em sua posse, ou se seria suficiente apenas uma revisão de seguro para os meus automóveis e/ou a certificação de segurança que atendem às minhas vendas online? A pergunta possui dois significados diferentes, mas ambos podem ser respostos usando os mesmos métodos.\n",
      "Chatbot:  Você precisa fazer uma revisão de seguro para as mercadorias em sua posse ou apenas uma revisão de seguro e/ou certificação de segurança que atendam ...\n",
      "\n",
      "Interação 4:\n",
      "Usuário: O seu pedido de revisão de seguros para as mercadorias é válida, pois não há nenhuma necessidade de um segundo seguro. Nunca sejas rejeitado por nível inferior ao de segurança previsto pela sua companhia de seguros, caso contrário, você pode optar por uma revisão mais rígida ou verificação adicional para qualquer subconjunto específico que deseja.\n",
      "\n",
      "A pergunta relativa às vendas online é mais natural e espontânea do que a de seguro de mercadorias. Você pode responder essa pergunta por meio de um único comunicado informal, sem necessidade de explicar ou dar mais detalhes.\n",
      "\n",
      "A sua perfunção não está marcada como necessária apenas para revisão de seguros, mas também se aplica à certificação de segurança que atenda às suas vendas online. Você pode decidir por qual método melhor de manejar este assunto, desde oferecer um comunicado informal e esclareciente até oferecer uma revisão de seguro completa de mercadorias para todas as vinduras online que você possa ter obtido.\n",
      "Chatbot:  Para a pergunta sobre as vendas online: \"Eu posso arranjar uma revisão de seguro completo ou certificação de segurança para as minhas mercadorias on-...\n",
      "\n",
      "Interação 5:\n",
      "Usuário: Você é um cliente interessado em seguro de carro. \n",
      "\n",
      "Resposta: Reescrito na seguinte maneira:\n",
      "\n",
      "Pergunta original: Qualquer carro pode ter seguro?\n",
      "\n",
      "Levantando o volume da voz, lembre-se:\n",
      "\n",
      "- Mantem informal e natural\n",
      "- Pode adicionar contexto pessoal\n",
      "- Use linguagem do dia a dia\n",
      "- Responda apenas à nova pergunta, sem explicações\n",
      "\n",
      "Resposta:\n",
      "\n",
      "Novamente pergunta original: Qualquer carro pode ter seguro?\n",
      "\n",
      "Levantando o volume da voz, lembre-se:\n",
      "\n",
      "- Mantem informal e natural\n",
      "- Pode adicionar contexto pessoal\n",
      "- Use linguagem do dia a dia\n",
      "- Responda apenas à nova pergunta, sem explicações\n",
      "\n",
      "Resposta:\n",
      "\n",
      "Novamente pergunta original: Qualquer carro pode ter seguro?\n",
      "\n",
      "Levantando o volume da voz, lembre-se:\n",
      "\n",
      "- Mantem informal e natural\n",
      "- Pode adicionar contexto pessoal\n",
      "- Use linguagem do dia a dia\n",
      "- Responda apenas à nova pergunta, sem explicações\n",
      "\n",
      "Resposta:\n",
      "\n",
      "Novamente pergunta original: Qualquer carro pode ter seguro?\n",
      "\n",
      "Levantando o volume da voz, lembre-se:\n",
      "\n",
      "- Mantem informal e natural\n",
      "- Pode adicionar contexto pessoal\n",
      "- Use linguagem do dia a dia\n",
      "- Responda apenas à nova pergunta, sem explicações\n",
      "Chatbot:  Pergunta original: Qualquer carro pode ter seguro?\n",
      "\n",
      "   Levantando o volume da voz, lembre-se:\n",
      "\n",
      "   - Mantem informal e natural\n",
      "   - Pode adicionar con...\n",
      "\n",
      "Métricas de dúvidas:\n",
      "{'total_duvidas': 15, 'distribuicao_tipos': {'outras_duvidas': 12, 'contratacao_renovacao': 1, 'casos_especificos': 1, 'coberturas_protecoes': 1}, 'duvidas_frequentes': [('Você é um cliente interessado em seguros de automóvel. \\n\\nReescreva a seguinte pergunta de uma menina diferente, usando palavras como se fosse um real perguntando automaticamente:\\n\\nPergunta original: A seguindora oferece desconto para instalar rastreador?\\n\\nNome da pessoa que pretende informar ou responder:\\n- Não mantenha informal e natural\\n- Pode adicionar contexto pessoal\\n- Mantenha o foco na mesma dúvida\\n- Utilize palavras do dia a dia\\n- Responda apenas à nova pergunta, sem explicações', 1), ('Você é um cliente interessado em seguros. Esqueça de usar palavras com uma mensagem específica ou da mesma data em que a pergunta foi feita, já que não é possível ter o mesmo significado do que aconteceu antes. O que você precisa fazer é perguntar a forma natural e formal que seja mais pertinente à sua situação.\\n\\nPor exemplo: \\n\\nPergunta original: Possso parcelar minha franquia de seguros?\\n\\nLeitura: Pergunta original: Posso parcêla-me-a franquêa de seguros? (Informal)\\nParqueeu-me a franquêa de seguro? (Por que não?) \\n\\nNovamente pergunta original: Posso parcelar minha franquia do seguros? \\n\\nLeitura: Pergunta original: Possói pude parcellar minha franquêa do seguros? (Informal)\\nParqueeu a franquêa do seguros? (Por que não?) \\n\\nNovamente pergunta original: Posso parcelar minha franquia do seguros?', 1), ('Preciso fazer vistoira para renovar o seguro? Leia aqui:\\n\\n- Preciso de uma revisão de seguro para as mercadorias que possuo.\\n- Requerido para obter um certificado de segurança para os meus automóveis.\\n- Eu preciso verificação para o seguros que atendem às minhas vendas online.\\n\\nNessa pergunta você perguntaria se necessitaria uma revisão de seguro para as mercadorias em sua posse, ou se seria suficiente apenas uma revisão de seguro para os meus automóveis e/ou a certificação de segurança que atendem às minhas vendas online? A pergunta possui dois significados diferentes, mas ambos podem ser respostos usando os mesmos métodos.', 1), ('O seu pedido de revisão de seguros para as mercadorias é válida, pois não há nenhuma necessidade de um segundo seguro. Nunca sejas rejeitado por nível inferior ao de segurança previsto pela sua companhia de seguros, caso contrário, você pode optar por uma revisão mais rígida ou verificação adicional para qualquer subconjunto específico que deseja.\\n\\nA pergunta relativa às vendas online é mais natural e espontânea do que a de seguro de mercadorias. Você pode responder essa pergunta por meio de um único comunicado informal, sem necessidade de explicar ou dar mais detalhes.\\n\\nA sua perfunção não está marcada como necessária apenas para revisão de seguros, mas também se aplica à certificação de segurança que atenda às suas vendas online. Você pode decidir por qual método melhor de manejar este assunto, desde oferecer um comunicado informal e esclareciente até oferecer uma revisão de seguro completa de mercadorias para todas as vinduras online que você possa ter obtido.', 1), ('Você é um cliente interessado em seguro de carro. \\n\\nResposta: Reescrito na seguinte maneira:\\n\\nPergunta original: Qualquer carro pode ter seguro?\\n\\nLevantando o volume da voz, lembre-se:\\n\\n- Mantem informal e natural\\n- Pode adicionar contexto pessoal\\n- Use linguagem do dia a dia\\n- Responda apenas à nova pergunta, sem explicações\\n\\nResposta:\\n\\nNovamente pergunta original: Qualquer carro pode ter seguro?\\n\\nLevantando o volume da voz, lembre-se:\\n\\n- Mantem informal e natural\\n- Pode adicionar contexto pessoal\\n- Use linguagem do dia a dia\\n- Responda apenas à nova pergunta, sem explicações\\n\\nResposta:\\n\\nNovamente pergunta original: Qualquer carro pode ter seguro?\\n\\nLevantando o volume da voz, lembre-se:\\n\\n- Mantem informal e natural\\n- Pode adicionar contexto pessoal\\n- Use linguagem do dia a dia\\n- Responda apenas à nova pergunta, sem explicações\\n\\nResposta:\\n\\nNovamente pergunta original: Qualquer carro pode ter seguro?\\n\\nLevantando o volume da voz, lembre-se:\\n\\n- Mantem informal e natural\\n- Pode adicionar contexto pessoal\\n- Use linguagem do dia a dia\\n- Responda apenas à nova pergunta, sem explicações', 1), ('Você é um cliente interessado em seguro de carro. \\n\\nReescreva a seguinte pergunta numa forma mais formal e natural, para obter melhores respostas do cliente.\\n\\nPergunta original: Se o seguro colete roubo de aceissorios instalados após a compra do veículo?\\n\\nLevanta-te informal e natural, mantenha contexto pessoal e o mesmo foco em toda pergunta. Use linguagem da sua mesma dúvida, sem qualquer explicação adicional. Não use palavras diferentes para as de outra pergunta.', 1), ('Você está interessado na seguência do seguro que é colecionado após a compra de um veículo? \\n\\nRegras para esta pergunta: \\n- deve estar relacionada ao mesmo assunto\\n- deve buscar mais detalhes ou esclarecerias, não precisar de explicação adicional\\n- deve ser informal e natural, sem qualquer explicação adicional\\n- deve usar linguagem informal, não usar palavras diferentes para aquela da pergunta anterior. \\n\\nResposta: \\nPergunta original: Se o seguro colete roubo de aceissários instalados após a compra do veículo? \\n\\nResposta da pergunta: Sim, você está interessado em garantir que as seguências sejam monitoradas e seja coletado roubo de aceissários instalados após a compração do seu veículo.', 1), ('Você é um cliente interessado em seguro de carro.\\nReescrita da seguinte pergunta de uma maneira diferente, mantendo o mesmo significado e usando palavras novas, como se fosse uma pessoa real perguntando a outra:\\n\\nPergunta original: Quantos custam em média um seguro?\\n\\nResposta: \\n- Mantém informal e natural\\n- Incorpora contexto pessoal\\n- Utiliza palavras do dia a dia\\n- Não explica mais do que necessário\\n\\nResponde apenas à nova pergunta, sem explicar mais.', 1), ('Esta é a resposta de uma pessoa interessada em seguro de carro. Reescrivete a seguinte pergunta de uma maneiragem diferente, mantenendo o mesmo significado do sinal, mas usando outras palavras, como se fosse um ser realmente perguntando-se naturalmente:\\n\\nPergunta original: Uma vez que eu usar o carro para aplicativo (Uber/99), Eu perdei o seguros cobertos de minha utilização do veículo?\\n\\nResposta: Continueu: O seguros cobertos de minha utilização do veículo são garantidos, independentemente das minhas utilizações durante a semana e aos dias acima. Ao contrário da pergunta original, nossa resposta não é uma resposta ao sinal (Uber/99), mas apenas um comentário sobre o conteúdo desta pergunta. Não vamos ajudá-lo a responder sua dúvida de seguros cobertos de utilização do veículo, pois este tipo de perguntas não se assemelham ao perigo existente no mundo real. Você deve usar as palavras e contexto pessoais que você deseja, mantenha o foco na mesma dúvida e use linguagem do dia a dia. Responda como você está, sem explicação adicional.', 1), ('Você é um cliente interessado em seguro de carro.\\n\\nReescrito para uma conversação real:\\n\\nPergunta original: Se eu modificar o seu veículo (rebatir, turbinar), perdei a cobertura?\\n\\nResposta:\\n\\n- Tenha comecemos com um tom mais formal e abordagem mais formal. \\n- Para evitar dúvidas, mantenha uma sintaxe natural, utilizando palavras e frases que se aproximam do seu dia a dia. \\n- Exemplo: - Ou vamos responder apenas à nova pergunta, sem explicação, para evitar confusão.\\n\\nNovamente a conversa real:\\n\\nPergunta original: Se eu modificar o meu veículo (rebatir, turbinar), perdí a cobertura?\\n\\nResposta:\\n\\n- Repita os passos do primeiro comecimento da pergunta e substitua \"meu\" por \"não\". \\n- Apesar de ser uma alteração no meu veículo, não percebi que me perdai a cobertura. \\n- Utilize o mesmo senso do vogal do preterito em vez do vogal do presente: - Não perdia a cobertura, mas sim, percebi que perdí as coberturas de nossas outras rodadas.', 1)]}\n",
      "\n",
      "Métricas de assertividade:\n",
      "{'total_interacoes': 15, 'temas_populares': {'servicos_beneficios': 1, 'pagamentos_valores': 1, 'outros': 6, 'contratacao_renovacao': 1, 'coberturas_protecoes': 5, 'casos_especificos': 1}, 'media_score': 90.0, 'problemas_detectados': [], 'distribuicao_scores': {'excelente (90-100)': 9, 'bom (70-89)': 6, 'regular (50-69)': 0, 'ruim (<50)': 0}}\n"
     ]
    }
   ],
   "source": [
    "print(\"\\n=== Relatório de Testes do Chatbot ===\\n\\nTotal de conversas: 3\\nTotal de interações: 15\\nMédia de interações por conversa: 5.0\\n\\nExemplo de conversa gerada:\\n\\nPrimeira conversa:\\n\\nInteração 1:\\nUsuário: Você é um cliente interessado em seguros de automóvel. \\n\\nReescreva a seguinte pergunta de uma menina diferente, usando palavras como se fosse um real perguntando automaticamente:\\n\\nPergunta original: A seguindora oferece desconto para instalar rastreador?\\n\\nNome da pessoa que pretende informar ou responder:\\n- Não mantenha informal e natural\\n- Pode adicionar contexto pessoal\\n- Mantenha o foco na mesma dúvida\\n- Utilize palavras do dia a dia\\n- Responda apenas à nova pergunta, sem explicações\\nChatbot:  Qual é a oferta de desconto que você tem para instalar um rastreador no meu veículo?...\\n\\nInteração 2:\\nUsuário: Você é um cliente interessado em seguros. Esqueça de usar palavras com uma mensagem específica ou da mesma data em que a pergunta foi feita, já que não é possível ter o mesmo significado do que aconteceu antes. O que você precisa fazer é perguntar a forma natural e formal que seja mais pertinente à sua situação.\\n\\nPor exemplo: \\n\\nPergunta original: Possso parcelar minha franquia de seguros?\\n\\nLeitura: Pergunta original: Posso parcêla-me-a franquêa de seguros? (Informal)\\nParqueeu-me a franquêa de seguro? (Por que não?) \\n\\nNovamente pergunta original: Posso parcelar minha franquia do seguros? \\n\\nLeitura: Pergunta original: Possói pude parcellar minha franquêa do seguros? (Informal)\\nParqueeu a franquêa do seguros? (Por que não?) \\n\\nNovamente pergunta original: Posso parcelar minha franquia do seguros?\\nChatbot:  Qual é o desconto que você oferece para instalar um sistema de monitoramento em meu veículo?...\\n\\nInteração 3:\\nUsuário: Preciso fazer vistoira para renovar o seguro? Leia aqui:\\n\\n- Preciso de uma revisão de seguro para as mercadorias que possuo.\\n- Requerido para obter um certificado de segurança para os meus automóveis.\\n- Eu preciso verificação para o seguros que atendem às minhas vendas online.\\n\\nNessa pergunta você perguntaria se necessitaria uma revisão de seguro para as mercadorias em sua posse, ou se seria suficiente apenas uma revisão de seguro para os meus automóveis e/ou a certificação de segurança que atendem às minhas vendas online? A pergunta possui dois significados diferentes, mas ambos podem ser respostos usando os mesmos métodos.\\nChatbot:  Você precisa fazer uma revisão de seguro para as mercadorias em sua posse ou apenas uma revisão de seguro e/ou certificação de segurança que atendam ...\\n\\nInteração 4:\\nUsuário: O seu pedido de revisão de seguros para as mercadorias é válida, pois não há nenhuma necessidade de um segundo seguro. Nunca sejas rejeitado por nível inferior ao de segurança previsto pela sua companhia de seguros, caso contrário, você pode optar por uma revisão mais rígida ou verificação adicional para qualquer subconjunto específico que deseja.\\n\\nA pergunta relativa às vendas online é mais natural e espontânea do que a de seguro de mercadorias. Você pode responder essa pergunta por meio de um único comunicado informal, sem necessidade de explicar ou dar mais detalhes.\\n\\nA sua perfunção não está marcada como necessária apenas para revisão de seguros, mas também se aplica à certificação de segurança que atenda às suas vendas online. Você pode decidir por qual método melhor de manejar este assunto, desde oferecer um comunicado informal e esclareciente até oferecer uma revisão de seguro completa de mercadorias para todas as vinduras online que você possa ter obtido.\\nChatbot:  Para a pergunta sobre as vendas online: \\\"Eu posso arranjar uma revisão de seguro completo ou certificação de segurança para as minhas mercadorias on-...\\n\\nInteração 5:\\nUsuário: Você é um cliente interessado em seguro de carro. \\n\\nResposta: Reescrito na seguinte maneira:\\n\\nPergunta original: Qualquer carro pode ter seguro?\\n\\nLevantando o volume da voz, lembre-se:\\n\\n- Mantem informal e natural\\n- Pode adicionar contexto pessoal\\n- Use linguagem do dia a dia\\n- Responda apenas à nova pergunta, sem explicações\\n\\nResposta:\\n\\nNovamente pergunta original: Qualquer carro pode ter seguro?\\n\\nLevantando o volume da voz, lembre-se:\\n\\n- Mantem informal e natural\\n- Pode adicionar contexto pessoal\\n- Use linguagem do dia a dia\\n- Responda apenas à nova pergunta, sem explicações\\n\\nResposta:\\n\\nNovamente pergunta original: Qualquer carro pode ter seguro?\\n\\nLevantando o volume da voz, lembre-se:\\n\\n- Mantem informal e natural\\n- Pode adicionar contexto pessoal\\n- Use linguagem do dia a dia\\n- Responda apenas à nova pergunta, sem explicações\\n\\nResposta:\\n\\nNovamente pergunta original: Qualquer carro pode ter seguro?\\n\\nLevantando o volume da voz, lembre-se:\\n\\n- Mantem informal e natural\\n- Pode adicionar contexto pessoal\\n- Use linguagem do dia a dia\\n- Responda apenas à nova pergunta, sem explicações\\nChatbot:  Pergunta original: Qualquer carro pode ter seguro?\\n\\n   Levantando o volume da voz, lembre-se:\\n\\n   - Mantem informal e natural\\n   - Pode adicionar con...\\n\\nMétricas de dúvidas:\\n{'total_duvidas': 15, 'distribuicao_tipos': {'outras_duvidas': 12, 'contratacao_renovacao': 1, 'casos_especificos': 1, 'coberturas_protecoes': 1}, 'duvidas_frequentes': [('Você é um cliente interessado em seguros de automóvel. \\\\n\\\\nReescreva a seguinte pergunta de uma menina diferente, usando palavras como se fosse um real perguntando automaticamente:\\\\n\\\\nPergunta original: A seguindora oferece desconto para instalar rastreador?\\\\n\\\\nNome da pessoa que pretende informar ou responder:\\\\n- Não mantenha informal e natural\\\\n- Pode adicionar contexto pessoal\\\\n- Mantenha o foco na mesma dúvida\\\\n- Utilize palavras do dia a dia\\\\n- Responda apenas à nova pergunta, sem explicações', 1), ('Você é um cliente interessado em seguros. Esqueça de usar palavras com uma mensagem específica ou da mesma data em que a pergunta foi feita, já que não é possível ter o mesmo significado do que aconteceu antes. O que você precisa fazer é perguntar a forma natural e formal que seja mais pertinente à sua situação.\\\\n\\\\nPor exemplo: \\\\n\\\\nPergunta original: Possso parcelar minha franquia de seguros?\\\\n\\\\nLeitura: Pergunta original: Posso parcêla-me-a franquêa de seguros? (Informal)\\\\nParqueeu-me a franquêa de seguro? (Por que não?) \\\\n\\\\nNovamente pergunta original: Posso parcelar minha franquia do seguros? \\\\n\\\\nLeitura: Pergunta original: Possói pude parcellar minha franquêa do seguros? (Informal)\\\\nParqueeu a franquêa do seguros? (Por que não?) \\\\n\\\\nNovamente pergunta original: Posso parcelar minha franquia do seguros?', 1), ('Preciso fazer vistoira para renovar o seguro? Leia aqui:\\\\n\\\\n- Preciso de uma revisão de seguro para as mercadorias que possuo.\\\\n- Requerido para obter um certificado de segurança para os meus automóveis.\\\\n- Eu preciso verificação para o seguros que atendem às minhas vendas online.\\\\n\\\\nNessa pergunta você perguntaria se necessitaria uma revisão de seguro para as mercadorias em sua posse, ou se seria suficiente apenas uma revisão de seguro para os meus automóveis e/ou a certificação de segurança que atendem às minhas vendas online? A pergunta possui dois significados diferentes, mas ambos podem ser respostos usando os mesmos métodos.', 1), ('O seu pedido de revisão de seguros para as mercadorias é válida, pois não há nenhuma necessidade de um segundo seguro. Nunca sejas rejeitado por nível inferior ao de segurança previsto pela sua companhia de seguros, caso contrário, você pode optar por uma revisão mais rígida ou verificação adicional para qualquer subconjunto específico que deseja.\\\\n\\\\nA pergunta relativa às vendas online é mais natural e espontânea do que a de seguro de mercadorias. Você pode responder essa pergunta por meio de um único comunicado informal, sem necessidade de explicar ou dar mais detalhes.\\\\n\\\\nA sua perfunção não está marcada como necessária apenas para revisão de seguros, mas também se aplica à certificação de segurança que atenda às suas vendas online. Você pode decidir por qual método melhor de manejar este assunto, desde oferecer um comunicado informal e esclareciente até oferecer uma revisão de seguro completa de mercadorias para todas as vinduras online que você possa ter obtido.', 1), ('Você é um cliente interessado em seguro de carro. \\\\n\\\\nResposta: Reescrito na seguinte maneira:\\\\n\\\\nPergunta original: Qualquer carro pode ter seguro?\\\\n\\\\nLevantando o volume da voz, lembre-se:\\\\n\\\\n- Mantem informal e natural\\\\n- Pode adicionar contexto pessoal\\\\n- Use linguagem do dia a dia\\\\n- Responda apenas à nova pergunta, sem explicações\\\\n\\\\nResposta:\\\\n\\\\nNovamente pergunta original: Qualquer carro pode ter seguro?\\\\n\\\\nLevantando o volume da voz, lembre-se:\\\\n\\\\n- Mantem informal e natural\\\\n- Pode adicionar contexto pessoal\\\\n- Use linguagem do dia a dia\\\\n- Responda apenas à nova pergunta, sem explicações\\\\n\\\\nResposta:\\\\n\\\\nNovamente pergunta original: Qualquer carro pode ter seguro?\\\\n\\\\nLevantando o volume da voz, lembre-se:\\\\n\\\\n- Mantem informal e natural\\\\n- Pode adicionar contexto pessoal\\\\n- Use linguagem do dia a dia\\\\n- Responda apenas à nova pergunta, sem explicações\\\\n\\\\nResposta:\\\\n\\\\nNovamente pergunta original: Qualquer carro pode ter seguro?\\\\n\\\\nLevantando o volume da voz, lembre-se:\\\\n\\\\n- Mantem informal e natural\\\\n- Pode adicionar contexto pessoal\\\\n- Use linguagem do dia a dia\\\\n- Responda apenas à nova pergunta, sem explicações', 1), ('Você é um cliente interessado em seguro de carro. \\\\n\\\\nReescreva a seguinte pergunta numa forma mais formal e natural, para obter melhores respostas do cliente.\\\\n\\\\nPergunta original: Se o seguro colete roubo de aceissorios instalados após a compra do veículo?\\\\n\\\\nLevanta-te informal e natural, mantenha contexto pessoal e o mesmo foco em toda pergunta. Use linguagem da sua mesma dúvida, sem qualquer explicação adicional. Não use palavras diferentes para as de outra pergunta.', 1), ('Você está interessado na seguência do seguro que é colecionado após a compra de um veículo? \\\\n\\\\nRegras para esta pergunta: \\\\n- deve estar relacionada ao mesmo assunto\\\\n- deve buscar mais detalhes ou esclarecerias, não precisar de explicação adicional\\\\n- deve ser informal e natural, sem qualquer explicação adicional\\\\n- deve usar linguagem informal, não usar palavras diferentes para aquela da pergunta anterior. \\\\n\\\\nResposta: \\\\nPergunta original: Se o seguro colete roubo de aceissários instalados após a compra do veículo? \\\\n\\\\nResposta da pergunta: Sim, você está interessado em garantir que as seguências sejam monitoradas e seja coletado roubo de aceissários instalados após a compração do seu veículo.', 1), ('Você é um cliente interessado em seguro de carro.\\\\nReescrita da seguinte pergunta de uma maneira diferente, mantendo o mesmo significado e usando palavras novas, como se fosse uma pessoa real perguntando a outra:\\\\n\\\\nPergunta original: Quantos custam em média um seguro?\\\\n\\\\nResposta: \\\\n- Mantém informal e natural\\\\n- Incorpora contexto pessoal\\\\n- Utiliza palavras do dia a dia\\\\n- Não explica mais do que necessário\\\\n\\\\nResponde apenas à nova pergunta, sem explicar mais.', 1), ('Esta é a resposta de uma pessoa interessada em seguro de carro. Reescrivete a seguinte pergunta de uma maneiragem diferente, mantenendo o mesmo significado do sinal, mas usando outras palavras, como se fosse um ser realmente perguntando-se naturalmente:\\\\n\\\\nPergunta original: Uma vez que eu usar o carro para aplicativo (Uber/99), Eu perdei o seguros cobertos de minha utilização do veículo?\\\\n\\\\nResposta: Continueu: O seguros cobertos de minha utilização do veículo são garantidos, independentemente das minhas utilizações durante a semana e aos dias acima. Ao contrário da pergunta original, nossa resposta não é uma resposta ao sinal (Uber/99), mas apenas um comentário sobre o conteúdo desta pergunta. Não vamos ajudá-lo a responder sua dúvida de seguros cobertos de utilização do veículo, pois este tipo de perguntas não se assemelham ao perigo existente no mundo real. Você deve usar as palavras e contexto pessoais que você deseja, mantenha o foco na mesma dúvida e use linguagem do dia a dia. Responda como você está, sem explicação adicional.', 1), ('Você é um cliente interessado em seguro de carro.\\\\n\\\\nReescrito para uma conversação real:\\\\n\\\\nPergunta original: Se eu modificar o seu veículo (rebatir, turbinar), perdei a cobertura?\\\\n\\\\nResposta:\\\\n\\\\n- Tenha comecemos com um tom mais formal e abordagem mais formal. \\\\n- Para evitar dúvidas, mantenha uma sintaxe natural, utilizando palavras e frases que se aproximam do seu dia a dia. \\\\n- Exemplo: - Ou vamos responder apenas à nova pergunta, sem explicação, para evitar confusão.\\\\n\\\\nNovamente a conversa real:\\\\n\\\\nPergunta original: Se eu modificar o meu veículo (rebatir, turbinar), perdí a cobertura?\\\\n\\\\nResposta:\\\\n\\\\n- Repita os passos do primeiro comecimento da pergunta e substitua \\\"meu\\\" por \\\"não\\\". \\\\n- Apesar de ser uma alteração no meu veículo, não percebi que me perdai a cobertura. \\\\n- Utilize o mesmo senso do vogal do preterito em vez do vogal do presente: - Não perdia a cobertura, mas sim, percebi que perdí as coberturas de nossas outras rodadas.', 1)]}\\n\\nMétricas de assertividade:\\n{'total_interacoes': 15, 'temas_populares': {'servicos_beneficios': 1, 'pagamentos_valores': 1, 'outros': 6, 'contratacao_renovacao': 1, 'coberturas_protecoes': 5, 'casos_especificos': 1}, 'media_score': 90.0, 'problemas_detectados': [], 'distribuicao_scores': {'excelente (90-100)': 9, 'bom (70-89)': 6, 'regular (50-69)': 0, 'ruim (<50)': 0}}\")"
   ]
  },
  {
   "cell_type": "code",
   "execution_count": null,
   "metadata": {},
   "outputs": [],
   "source": []
  }
 ],
 "metadata": {
  "kernelspec": {
   "display_name": "chatbot-env",
   "language": "python",
   "name": "python3"
  },
  "language_info": {
   "codemirror_mode": {
    "name": "ipython",
    "version": 3
   },
   "file_extension": ".py",
   "mimetype": "text/x-python",
   "name": "python",
   "nbconvert_exporter": "python",
   "pygments_lexer": "ipython3",
   "version": "3.9.21"
  }
 },
 "nbformat": 4,
 "nbformat_minor": 2
}
